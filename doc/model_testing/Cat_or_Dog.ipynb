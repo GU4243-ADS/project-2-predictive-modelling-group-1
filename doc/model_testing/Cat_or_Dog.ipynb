{
 "cells": [
  {
   "cell_type": "code",
   "execution_count": 1,
   "metadata": {
    "collapsed": false
   },
   "outputs": [],
   "source": [
    "import sklearn\n",
    "import matplotlib.pyplot as plt\n",
    "import numpy as np\n",
    "import cv2\n",
    "from os import listdir\n",
    "from os.path import isfile, join\n",
    "import pandas as pd\n",
    "from datetime import datetime\n",
    "from sklearn import ensemble\n",
    "from sklearn import svm\n",
    "from sklearn import linear_model\n",
    "from sklearn.cluster import KMeans\n",
    "from sklearn import neighbors\n",
    "from sklearn.preprocessing import StandardScaler\n",
    "from sklearn.model_selection import train_test_split",
    "#Author: David Arredondo"
   ]
  },
  {
   "cell_type": "markdown",
   "metadata": {},
   "source": [
    "## Part 1: Data Cleaning"
   ]
  },
  {
   "cell_type": "code",
   "execution_count": 2,
   "metadata": {
    "collapsed": false
   },
   "outputs": [],
   "source": [
    "#load the images into a numpy array.\n",
    "#inspired by https://stackoverflow.com/questions/33369832/read-multiple-images-on-a-folder-in-opencv-python\n",
    "mypath = \"C:\\\\Users\\\\David\\\\Documents\\\\train\\\\\" #change this path to wherever your image data is\n",
    "# the below is a list of individual file names\n",
    "justfiles = [ f for f in listdir(mypath) if isfile(join(mypath,f)) ]\n",
    "#prepare my list of images\n",
    "images = np.empty(len(justfiles), dtype=object)\n",
    "#fill the list of images with the dog and cat images\n",
    "for n in range(0, len(justfiles)):\n",
    "  images[n] = cv2.imread( join(mypath,justfiles[n]) )"
   ]
  },
  {
   "cell_type": "code",
   "execution_count": 3,
   "metadata": {
    "collapsed": true
   },
   "outputs": [],
   "source": [
    "#create an array of images to play around with\n",
    "tempimg = np.empty(500, dtype=object)\n",
    "for i in range(500):\n",
    "    tempimg[i] = images[i]"
   ]
  },
  {
   "cell_type": "code",
   "execution_count": 4,
   "metadata": {
    "collapsed": false
   },
   "outputs": [],
   "source": [
    "#load the labels, and prepare an array for a bool of labels, dog == True, cat == False\n",
    "labels = np.loadtxt(\"..\\\\data\\\\train_label.txt\", dtype = 'str')\n",
    "labelsb = np.empty(len(labels), dtype=bool)"
   ]
  },
  {
   "cell_type": "code",
   "execution_count": 5,
   "metadata": {
    "collapsed": true
   },
   "outputs": [],
   "source": [
    "#make labels a better string\n",
    "for i in range(len(labels)):\n",
    "    if ('d' in labels[i]):\n",
    "        labels[i] = 'dog'\n",
    "    else:\n",
    "        labels[i] = 'cat'"
   ]
  },
  {
   "cell_type": "code",
   "execution_count": 6,
   "metadata": {
    "collapsed": true
   },
   "outputs": [],
   "source": [
    "#fill labelsb\n",
    "for i in range(len(labels)):\n",
    "    if ('d' in labels[i]):\n",
    "        labelsb[i] = True\n",
    "    else:\n",
    "        labelsb[i] = False"
   ]
  },
  {
   "cell_type": "code",
   "execution_count": 7,
   "metadata": {
    "collapsed": false
   },
   "outputs": [],
   "source": [
    "#make all images gray\n",
    "g_img = np.empty(len(images), dtype = object)\n",
    "for i in range(len(images)):\n",
    "    g_img[i] = cv2.cvtColor(images[i], cv2.COLOR_BGR2GRAY)"
   ]
  },
  {
   "cell_type": "code",
   "execution_count": 8,
   "metadata": {
    "collapsed": false
   },
   "outputs": [],
   "source": [
    "#resize all images; make them uniform\n",
    "gu_img = np.empty(len(g_img), dtype = object)\n",
    "for i in range(len(images)):\n",
    "    gu_img[i] = cv2.resize(g_img[i], (128,128))"
   ]
  },
  {
   "cell_type": "code",
   "execution_count": 9,
   "metadata": {
    "collapsed": false
   },
   "outputs": [],
   "source": [
    "#train and test sets\n",
    "trn = gu_img[0:1600]\n",
    "tst = gu_img[1600:2000]\n",
    "# tmp train and test labels\n",
    "ltrn = labelsb[0:1600]\n",
    "ltst = labelsb[1600:2000]"
   ]
  },
  {
   "cell_type": "markdown",
   "metadata": {},
   "source": [
    "### ORB Stuff"
   ]
  },
  {
   "cell_type": "code",
   "execution_count": 10,
   "metadata": {
    "collapsed": false
   },
   "outputs": [],
   "source": [
    "# Initiate STAR detector for all the images\n",
    "orbs = np.empty(len(gu_img), dtype = object)\n",
    "for i in range(len(gu_img)):\n",
    "    orbs[i] = cv2.ORB_create()\n",
    "\n",
    "# find the keypoints with ORB\n",
    "kps = np.empty(len(gu_img), dtype=object)\n",
    "for i in range(len(orbs)):\n",
    "    kps[i] = orbs[i].detect(gu_img[i],None)\n",
    "\n",
    "# compute the descriptors with ORB\n",
    "descrs = np.empty(len(kps), dtype=object)\n",
    "for i in range(len(kps)):\n",
    "    kps[i],descrs[i] = orbs[i].compute(gu_img[i],kps[i])"
   ]
  },
  {
   "cell_type": "markdown",
   "metadata": {},
   "source": [
    "### Bag of words on orb features"
   ]
  },
  {
   "cell_type": "markdown",
   "metadata": {},
   "source": [
    "The following section is from my project partner Yang He."
   ]
  },
  {
   "cell_type": "code",
   "execution_count": 11,
   "metadata": {
    "collapsed": true
   },
   "outputs": [],
   "source": [
    "# Deeper Feature Extraction\n",
    "\n",
    "# Bag of word\n",
    "# clustering\n",
    "def bow_cluster(kmeans_obj, descriptor_stack):\n",
    "    kmeans_ret = kmeans_obj.fit_predict(descriptor_stack)\n",
    "    return kmeans_ret\n",
    "\n",
    "# generate vertical stack of descriptors\n",
    "def bow_vstack(desc_list):\n",
    "    stack = np.array(desc_list[0])\n",
    "    for rest in desc_list[1:]:\n",
    "        stack = np.vstack((stack, rest))\n",
    "    desc_stack = stack.copy()\n",
    "    return desc_stack\n",
    "\n",
    "# generate bag of words frequency matrix (shape: NUM_TRAIN_IMG * N_CLUSTER)\n",
    "def bow_get_freq_matrix(num_imgs, num_clusters, SIFT_list, kmeans_ret):\n",
    "    # initialization\n",
    "    matrix = np.array([np.zeros(num_clusters) for i in range(num_imgs)])\n",
    "    \n",
    "    # keep track of index of kmeans_ret\n",
    "    kmeans_id = 0\n",
    "    for i in range(num_imgs):\n",
    "        l = len(SIFT_list[i])\n",
    "        for j in range(l):\n",
    "            cluster_id = kmeans_ret[kmeans_id + j]\n",
    "            matrix[i][cluster_id] += 1\n",
    "        kmeans_id += l\n",
    "    \n",
    "    return matrix"
   ]
  },
  {
   "cell_type": "code",
   "execution_count": 12,
   "metadata": {
    "collapsed": true
   },
   "outputs": [],
   "source": [
    "descriptor_stack = bow_vstack(descrs)"
   ]
  },
  {
   "cell_type": "code",
   "execution_count": 13,
   "metadata": {
    "collapsed": false
   },
   "outputs": [
    {
     "name": "stdout",
     "output_type": "stream",
     "text": [
      "Start Kmeans 2018-03-04 22:17:15.067410\n",
      "End Kmeans 2018-03-04 23:09:20.355724 Time Cost: 0:52:05.288314\n"
     ]
    }
   ],
   "source": [
    "start_time = datetime.now()\n",
    "print(\"Start Kmeans \" + str(start_time))\n",
    "\n",
    "kmeans_obj = KMeans(n_clusters = 200)\n",
    "kmeans_ret = bow_cluster(kmeans_obj, descriptor_stack)\n",
    "\n",
    "end_time = datetime.now()\n",
    "print(\"End Kmeans \" + str(end_time) + \" Time Cost: \" + str(end_time - start_time))"
   ]
  },
  {
   "cell_type": "code",
   "execution_count": 14,
   "metadata": {
    "collapsed": false
   },
   "outputs": [],
   "source": [
    "vocab_matrix = bow_get_freq_matrix(2000, 200, descrs, kmeans_ret)"
   ]
  },
  {
   "cell_type": "code",
   "execution_count": 15,
   "metadata": {
    "collapsed": true
   },
   "outputs": [],
   "source": [
    "from sklearn.preprocessing import StandardScaler"
   ]
  },
  {
   "cell_type": "code",
   "execution_count": 16,
   "metadata": {
    "collapsed": false
   },
   "outputs": [],
   "source": [
    "scale = StandardScaler().fit(vocab_matrix)\n",
    "vocab_matrix_std = scale.transform(vocab_matrix)"
   ]
  },
  {
   "cell_type": "code",
   "execution_count": 17,
   "metadata": {
    "collapsed": true
   },
   "outputs": [],
   "source": [
    "from sklearn.model_selection import train_test_split"
   ]
  },
  {
   "cell_type": "code",
   "execution_count": 18,
   "metadata": {
    "collapsed": false
   },
   "outputs": [],
   "source": [
    "X_train, X_test, y_train, y_test = train_test_split(vocab_matrix_std, labelsb, test_size = 0.2, random_state =42)"
   ]
  },
  {
   "cell_type": "markdown",
   "metadata": {},
   "source": [
    "### Train Classifiers with BOW ORB features"
   ]
  },
  {
   "cell_type": "markdown",
   "metadata": {},
   "source": [
    "SVM"
   ]
  },
  {
   "cell_type": "code",
   "execution_count": 42,
   "metadata": {
    "collapsed": false
   },
   "outputs": [
    {
     "name": "stdout",
     "output_type": "stream",
     "text": [
      "Start training using SVM @ 2018-03-04 23:54:28.295217\n",
      "End training SVM @ 2018-03-04 23:54:28.922972 Time Cost: 0:00:00.627755\n"
     ]
    }
   ],
   "source": [
    "start_time = datetime.now()\n",
    "print(\"Start training using SVM @ \" + str(start_time))\n",
    "\n",
    "clf = svm.SVC()\n",
    "clf.fit(X_train, y_train)\n",
    "\n",
    "end_time = datetime.now()\n",
    "print(\"End training SVM @ \" + str(end_time) + \" Time Cost: \" + str(end_time - start_time))"
   ]
  },
  {
   "cell_type": "code",
   "execution_count": 43,
   "metadata": {
    "collapsed": false
   },
   "outputs": [
    {
     "name": "stdout",
     "output_type": "stream",
     "text": [
      "Start predicting using SVM @ 2018-03-04 23:54:32.436828\n",
      "Accuracy: 70.00%\n",
      "End training SVM @ 2018-03-04 23:54:32.568814 Time Cost: 0:00:00.131986\n"
     ]
    }
   ],
   "source": [
    "start_time = datetime.now()\n",
    "print(\"Start predicting using SVM @ \" + str(start_time))\n",
    "pred = np.asarray(clf.predict(X_test))\n",
    "accuracy = (pred == y_test).mean()\n",
    "print(\"Accuracy: %.2f%%\" % (accuracy * 100))\n",
    "end_time = datetime.now()\n",
    "print(\"End training SVM @ \" + str(end_time) + \" Time Cost: \" + str(end_time - start_time))"
   ]
  },
  {
   "cell_type": "markdown",
   "metadata": {},
   "source": [
    "GBC"
   ]
  },
  {
   "cell_type": "code",
   "execution_count": 21,
   "metadata": {
    "collapsed": false
   },
   "outputs": [
    {
     "name": "stdout",
     "output_type": "stream",
     "text": [
      "Start training using GBC @ 2018-03-04 23:28:24.892662\n",
      "End training @ 2018-03-04 23:28:34.672593 Time Cost: 0:00:09.779931\n"
     ]
    }
   ],
   "source": [
    "start_time = datetime.now()\n",
    "print(\"Start training using GBC @ \" + str(start_time))\n",
    "\n",
    "clf = ensemble.GradientBoostingClassifier(n_estimators=100, max_depth=11)\n",
    "clf.fit(X_train, y_train)\n",
    "\n",
    "end_time = datetime.now()\n",
    "print(\"End training @ \" + str(end_time) + \" Time Cost: \" + str(end_time - start_time))"
   ]
  },
  {
   "cell_type": "code",
   "execution_count": 22,
   "metadata": {
    "collapsed": false
   },
   "outputs": [
    {
     "name": "stdout",
     "output_type": "stream",
     "text": [
      "Start predicting using GBC @ 2018-03-04 23:28:45.931953\n",
      "Accuracy: 66.75%\n",
      "End prediction @ 2018-03-04 23:28:45.936957 Time Cost: 0:00:00.005004\n"
     ]
    }
   ],
   "source": [
    "start_time = datetime.now()\n",
    "print(\"Start predicting using GBC @ \" + str(start_time))\n",
    "\n",
    "pred = np.asarray(clf.predict(X_test))\n",
    "accuracy = (pred == y_test).mean()\n",
    "print(\"Accuracy: %.2f%%\" % (accuracy * 100))\n",
    "\n",
    "end_time = datetime.now()\n",
    "print(\"End prediction @ \" + str(end_time) + \" Time Cost: \" + str(end_time - start_time))"
   ]
  },
  {
   "cell_type": "markdown",
   "metadata": {},
   "source": [
    "RF"
   ]
  },
  {
   "cell_type": "code",
   "execution_count": 23,
   "metadata": {
    "collapsed": false
   },
   "outputs": [
    {
     "name": "stdout",
     "output_type": "stream",
     "text": [
      "Start training using RF @ 2018-03-04 23:29:00.103503\n",
      "End training @ 2018-03-04 23:29:00.209558 Time Cost: 0:00:00.106055\n"
     ]
    }
   ],
   "source": [
    "start_time = datetime.now()\n",
    "print(\"Start training using RF @ \" + str(start_time))\n",
    "\n",
    "clf = ensemble.RandomForestClassifier(n_estimators=17)\n",
    "clf.fit(X_train, y_train)\n",
    "\n",
    "end_time = datetime.now()\n",
    "print(\"End training @ \" + str(end_time) + \" Time Cost: \" + str(end_time - start_time))"
   ]
  },
  {
   "cell_type": "code",
   "execution_count": 24,
   "metadata": {
    "collapsed": false
   },
   "outputs": [
    {
     "name": "stdout",
     "output_type": "stream",
     "text": [
      "Start predicting using RF @ 2018-03-04 23:29:02.856672\n",
      "Accuracy: 66.75%\n",
      "End prediction @ 2018-03-04 23:29:02.861677 Time Cost: 0:00:00.005005\n"
     ]
    }
   ],
   "source": [
    "start_time = datetime.now()\n",
    "print(\"Start predicting using RF @ \" + str(start_time))\n",
    "\n",
    "pred = np.asarray(clf.predict(X_test))\n",
    "accuracy = (pred == y_test).mean()\n",
    "print(\"Accuracy: %.2f%%\" % (accuracy * 100))\n",
    "\n",
    "end_time = datetime.now()\n",
    "print(\"End prediction @ \" + str(end_time) + \" Time Cost: \" + str(end_time - start_time))"
   ]
  },
  {
   "cell_type": "markdown",
   "metadata": {},
   "source": [
    "ADABoost"
   ]
  },
  {
   "cell_type": "code",
   "execution_count": 25,
   "metadata": {
    "collapsed": false
   },
   "outputs": [
    {
     "name": "stdout",
     "output_type": "stream",
     "text": [
      "Start training using ADB @ 2018-03-04 23:29:12.783993\n",
      "End training @ 2018-03-04 23:29:12.839015 Time Cost: 0:00:00.055022\n"
     ]
    }
   ],
   "source": [
    "start_time = datetime.now()\n",
    "print(\"Start training using ADB @ \" + str(start_time))\n",
    "\n",
    "clf = ensemble.AdaBoostClassifier(n_estimators=5)\n",
    "clf.fit(X_train, y_train)\n",
    "\n",
    "end_time = datetime.now()\n",
    "print(\"End training @ \" + str(end_time) + \" Time Cost: \" + str(end_time - start_time))"
   ]
  },
  {
   "cell_type": "code",
   "execution_count": 26,
   "metadata": {
    "collapsed": false
   },
   "outputs": [
    {
     "name": "stdout",
     "output_type": "stream",
     "text": [
      "Start prediction using ADB @ 2018-03-04 23:29:16.747786\n",
      "Accuracy: 68.25%\n",
      "End prediction @ 2018-03-04 23:29:16.750790 Time Cost: 0:00:00.003004\n"
     ]
    }
   ],
   "source": [
    "start_time = datetime.now()\n",
    "print(\"Start prediction using ADB @ \" + str(start_time))\n",
    "\n",
    "pred = np.asarray(clf.predict(X_test))\n",
    "accuracy = (pred == y_test).mean()\n",
    "print(\"Accuracy: %.2f%%\" % (accuracy * 100))\n",
    "\n",
    "end_time = datetime.now()\n",
    "print(\"End prediction @ \" + str(end_time) + \" Time Cost: \" + str(end_time - start_time))"
   ]
  },
  {
   "cell_type": "code",
   "execution_count": null,
   "metadata": {
    "collapsed": true
   },
   "outputs": [],
   "source": [
    "KNN"
   ]
  },
  {
   "cell_type": "code",
   "execution_count": 27,
   "metadata": {
    "collapsed": false
   },
   "outputs": [
    {
     "name": "stdout",
     "output_type": "stream",
     "text": [
      "Start training using KNN @ 2018-03-04 23:29:24.474372\n",
      "End training @ 2018-03-04 23:29:24.493385 Time Cost: 0:00:00.019013\n"
     ]
    }
   ],
   "source": [
    "start_time = datetime.now()\n",
    "print(\"Start training using KNN @ \" + str(start_time))\n",
    "\n",
    "clf = neighbors.KNeighborsClassifier(leaf_size =5)\n",
    "clf.fit(X_train, y_train)\n",
    "\n",
    "end_time = datetime.now()\n",
    "print(\"End training @ \" + str(end_time) + \" Time Cost: \" + str(end_time - start_time))"
   ]
  },
  {
   "cell_type": "code",
   "execution_count": 28,
   "metadata": {
    "collapsed": false
   },
   "outputs": [
    {
     "name": "stdout",
     "output_type": "stream",
     "text": [
      "Start prediction using KNN @ 2018-03-04 23:29:26.955126\n",
      "Accuracy: 60.00%\n",
      "End prediction @ 2018-03-04 23:29:27.710139 Time Cost: 0:00:00.755013\n"
     ]
    }
   ],
   "source": [
    "start_time = datetime.now()\n",
    "print(\"Start prediction using KNN @ \" + str(start_time))\n",
    "\n",
    "pred = np.asarray(clf.predict(X_test))\n",
    "accuracy = (pred == y_test).mean()\n",
    "print(\"Accuracy: %.2f%%\" % (accuracy * 100))\n",
    "\n",
    "end_time = datetime.now()\n",
    "print(\"End prediction @ \" + str(end_time) + \" Time Cost: \" + str(end_time - start_time))"
   ]
  },
  {
   "cell_type": "markdown",
   "metadata": {},
   "source": [
    "### HOG Stuff"
   ]
  },
  {
   "cell_type": "code",
   "execution_count": 29,
   "metadata": {
    "collapsed": false
   },
   "outputs": [],
   "source": [
    "winSize = (128,128)\n",
    "blockSize = (16,16)\n",
    "blockStride = (8,8)\n",
    "cellSize = (8,8)\n",
    "nbins = 9\n",
    "\n",
    "hog = cv2.HOGDescriptor(winSize,blockSize,blockStride,cellSize,nbins)\n",
    "\n",
    "des = np.empty(len(trn), dtype=object)\n",
    "for i in range(len(des)):\n",
    "    des[i] = hog.compute(trn[i])"
   ]
  },
  {
   "cell_type": "code",
   "execution_count": 30,
   "metadata": {
    "collapsed": true
   },
   "outputs": [],
   "source": [
    "des_tst = np.empty(len(tst), dtype=object)\n",
    "for i in range(len(des_tst)):\n",
    "    des_tst[i] = hog.compute(tst[i])"
   ]
  },
  {
   "cell_type": "markdown",
   "metadata": {},
   "source": [
    "### Clean HOG"
   ]
  },
  {
   "cell_type": "code",
   "execution_count": 31,
   "metadata": {
    "collapsed": false
   },
   "outputs": [],
   "source": [
    "#flatten the arrays\n",
    "f_trn = np.empty(len(trn),dtype=object)\n",
    "for i in range(len(trn)):\n",
    "    f_trn[i] = trn[i].flatten()\n",
    "\n",
    "f_tst = np.empty(len(tst),dtype=object)\n",
    "for i in range(len(tst)):\n",
    "    f_tst[i] = tst[i].flatten()\n",
    "  \n",
    "f_des = np.empty(len(des),dtype=object)\n",
    "for i in range(len(f_des)):\n",
    "    f_des[i] = des[i].flatten()\n",
    "\n",
    "f_des_tst = np.empty(len(tst), dtype=object)\n",
    "for i in range(len(f_des_tst)):\n",
    "    f_des_tst[i] = des_tst[i].flatten()"
   ]
  },
  {
   "cell_type": "code",
   "execution_count": 32,
   "metadata": {
    "collapsed": false
   },
   "outputs": [],
   "source": [
    "#reformat the arrays\n",
    "f_trn = np.vstack(f_trn)\n",
    "f_tst = np.vstack(f_tst)\n",
    "f_des = np.vstack(f_des)\n",
    "f_des_tst = np.vstack(f_des_tst)"
   ]
  },
  {
   "cell_type": "markdown",
   "metadata": {},
   "source": [
    "### Run Models With HOG"
   ]
  },
  {
   "cell_type": "code",
   "execution_count": 33,
   "metadata": {
    "collapsed": false
   },
   "outputs": [
    {
     "name": "stdout",
     "output_type": "stream",
     "text": [
      "complete @ 2018-03-04 23:40:21.698127 Time Cost: 0:08:41.957168\n"
     ]
    }
   ],
   "source": [
    "#fit a gradient boosting algorithm\n",
    "start_time = datetime.now()\n",
    "\n",
    "gbcmodel = ensemble.GradientBoostingClassifier(n_estimators = 100, max_depth = 15)\n",
    "gbcmodel.fit(f_des,ltrn)\n",
    "\n",
    "end_time = datetime.now()\n",
    "print(\"complete @ \" + str(end_time) + \" Time Cost: \" + str(end_time - start_time))"
   ]
  },
  {
   "cell_type": "code",
   "execution_count": 34,
   "metadata": {
    "collapsed": false
   },
   "outputs": [
    {
     "name": "stdout",
     "output_type": "stream",
     "text": [
      "complete @ 2018-03-04 23:42:16.469831 Time Cost: 0:00:00.016009\n",
      "0.723333333333\n"
     ]
    }
   ],
   "source": [
    "start_time = datetime.now()\n",
    "\n",
    "acc = 1 - (sum(gbcmodel.predict(f_des_tst) ^ ltst)/600)\n",
    "\n",
    "end_time = datetime.now()\n",
    "print(\"complete @ \" + str(end_time) + \" Time Cost: \" + str(end_time - start_time))\n",
    "print(acc)"
   ]
  },
  {
   "cell_type": "code",
   "execution_count": 35,
   "metadata": {
    "collapsed": false
   },
   "outputs": [
    {
     "name": "stdout",
     "output_type": "stream",
     "text": [
      "ada complete @ 2018-03-04 23:44:53.614395 Time Cost: 0:02:33.142799\n"
     ]
    }
   ],
   "source": [
    "#fit adaboost\n",
    "start_time = datetime.now()\n",
    "\n",
    "adbmodel = ensemble.AdaBoostClassifier(n_estimators = 100)\n",
    "adbmodel.fit(f_des,ltrn)\n",
    "\n",
    "end_time = datetime.now()\n",
    "print(\"ada complete @ \" + str(end_time) + \" Time Cost: \" + str(end_time - start_time))"
   ]
  },
  {
   "cell_type": "code",
   "execution_count": 36,
   "metadata": {
    "collapsed": false
   },
   "outputs": [
    {
     "name": "stdout",
     "output_type": "stream",
     "text": [
      "ada complete @ 2018-03-04 23:48:35.588766 Time Cost: 0:00:00.235223\n",
      "0.725\n"
     ]
    }
   ],
   "source": [
    "start_time = datetime.now()\n",
    "\n",
    "acc = 1 - (sum(adbmodel.predict(f_des_tst) ^ ltst)/600)\n",
    "\n",
    "end_time = datetime.now()\n",
    "print(\"ada complete @ \" + str(end_time) + \" Time Cost: \" + str(end_time - start_time))\n",
    "print(acc)"
   ]
  },
  {
   "cell_type": "code",
   "execution_count": 37,
   "metadata": {
    "collapsed": false
   },
   "outputs": [
    {
     "name": "stdout",
     "output_type": "stream",
     "text": [
      "rf complete @ 2018-03-04 23:49:01.661606 Time Cost: 0:00:22.656907\n"
     ]
    }
   ],
   "source": [
    "#fit random forest\n",
    "start_time = datetime.now()\n",
    "\n",
    "rf = ensemble.RandomForestClassifier(n_estimators = 200)\n",
    "rf.fit(f_des,ltrn)\n",
    "\n",
    "end_time = datetime.now()\n",
    "print(\"rf complete @ \" + str(end_time) + \" Time Cost: \" + str(end_time - start_time))"
   ]
  },
  {
   "cell_type": "code",
   "execution_count": 38,
   "metadata": {
    "collapsed": false
   },
   "outputs": [
    {
     "name": "stdout",
     "output_type": "stream",
     "text": [
      "rf complete @ 2018-03-04 23:49:05.869132 Time Cost: 0:00:00.050022\n",
      "0.778333333333\n"
     ]
    }
   ],
   "source": [
    "start_time = datetime.now()\n",
    "\n",
    "acc = 1 - (sum(rf.predict(f_des_tst) ^ ltst)/600)\n",
    "\n",
    "end_time = datetime.now()\n",
    "print(\"rf complete @ \" + str(end_time) + \" Time Cost: \" + str(end_time - start_time))\n",
    "print(acc)"
   ]
  },
  {
   "cell_type": "code",
   "execution_count": 39,
   "metadata": {
    "collapsed": false
   },
   "outputs": [
    {
     "name": "stdout",
     "output_type": "stream",
     "text": [
      "svm complete @ 2018-03-04 23:49:43.358242 Time Cost: 0:00:19.986420\n"
     ]
    }
   ],
   "source": [
    "#fit svm\n",
    "start_time = datetime.now()\n",
    "\n",
    "svmmodel = svm.SVC(kernel='rbf', degree = 3)\n",
    "svmmodel.fit(f_des,ltrn)\n",
    "\n",
    "end_time = datetime.now()\n",
    "print(\"svm complete @ \" + str(end_time) + \" Time Cost: \" + str(end_time - start_time))"
   ]
  },
  {
   "cell_type": "code",
   "execution_count": 40,
   "metadata": {
    "collapsed": false
   },
   "outputs": [
    {
     "name": "stdout",
     "output_type": "stream",
     "text": [
      "svm complete @ 2018-03-04 23:49:52.157633 Time Cost: 0:00:04.430565\n",
      "0.785\n"
     ]
    }
   ],
   "source": [
    "start_time = datetime.now()\n",
    "acc = 1 - (sum(svmmodel.predict(f_des_tst) ^ ltst)/600)\n",
    "end_time = datetime.now()\n",
    "print(\"svm complete @ \" + str(end_time) + \" Time Cost: \" + str(end_time - start_time))\n",
    "print(acc)"
   ]
  },
  {
   "cell_type": "code",
   "execution_count": 44,
   "metadata": {
    "collapsed": false
   },
   "outputs": [
    {
     "name": "stdout",
     "output_type": "stream",
     "text": [
      "knn complete @ 2018-03-05 00:54:00.030200 Time Cost: 0:00:00.681811\n"
     ]
    }
   ],
   "source": [
    "#fit KNN\n",
    "start_time = datetime.now()\n",
    "\n",
    "svmmodel = neighbors.KNeighborsClassifier()\n",
    "svmmodel.fit(f_des,ltrn)\n",
    "\n",
    "end_time = datetime.now()\n",
    "print(\"knn complete @ \" + str(end_time) + \" Time Cost: \" + str(end_time - start_time))"
   ]
  },
  {
   "cell_type": "code",
   "execution_count": 45,
   "metadata": {
    "collapsed": false
   },
   "outputs": [
    {
     "name": "stdout",
     "output_type": "stream",
     "text": [
      "knn complete @ 2018-03-05 00:54:11.517466 Time Cost: 0:00:07.776830\n",
      "0.74\n"
     ]
    }
   ],
   "source": [
    "start_time = datetime.now()\n",
    "acc = 1 - (sum(svmmodel.predict(f_des_tst) ^ ltst)/600)\n",
    "end_time = datetime.now()\n",
    "print(\"knn complete @ \" + str(end_time) + \" Time Cost: \" + str(end_time - start_time))\n",
    "print(acc)"
   ]
  },
  {
   "cell_type": "code",
   "execution_count": null,
   "metadata": {
    "collapsed": true
   },
   "outputs": [],
   "source": []
  }
 ],
 "metadata": {
  "kernelspec": {
   "display_name": "Python 3",
   "language": "python",
   "name": "python3"
  },
  "language_info": {
   "codemirror_mode": {
    "name": "ipython",
    "version": 3
   },
   "file_extension": ".py",
   "mimetype": "text/x-python",
   "name": "python",
   "nbconvert_exporter": "python",
   "pygments_lexer": "ipython3",
   "version": "3.6.1"
  }
 },
 "nbformat": 4,
 "nbformat_minor": 2
}
