{
 "cells": [
  {
   "cell_type": "code",
   "execution_count": 1,
   "metadata": {},
   "outputs": [],
   "source": [
    "import sklearn\n",
    "import matplotlib.pyplot as plt\n",
    "import numpy as np\n",
    "import cv2\n",
    "from os import listdir\n",
    "from os.path import isfile, join\n",
    "import pandas as pd\n",
    "import re"
   ]
  },
  {
   "cell_type": "markdown",
   "metadata": {},
   "source": [
    "## Part 1: Data Cleaning"
   ]
  },
  {
   "cell_type": "code",
   "execution_count": null,
   "metadata": {},
   "outputs": [],
   "source": [
    "#load the images into a numpy array.\n",
    "#inspired by https://stackoverflow.com/questions/33369832/read-multiple-images-on-a-folder-in-opencv-python\n",
    "mypath = \"../data/pet/train/\" #change this path to wherever your image data is\n",
    "# the below is a list of individual file names\n",
    "# justfiles = [ f for f in listdir(mypath) if isfile(join(mypath,f)) ]\n",
    "# prepare my list of images\n",
    "# images = np.empty(len(justfiles), dtype=object)\n",
    "#fill the list of images with the dog and cat images\n",
    "# for n in range(0, 100):#len(justfiles)):\n",
    "  images[n] = cv2.imread( join(mypath,justfiles[n]) )"
   ]
  },
  {
   "cell_type": "code",
   "execution_count": null,
   "metadata": {},
   "outputs": [],
   "source": [
    "#create an array of images to play around with\n",
    "tempimg = np.empty(100, dtype=object)\n",
    "for i in range(100):\n",
    "    tempimg[i] = images[i]"
   ]
  },
  {
   "cell_type": "code",
   "execution_count": null,
   "metadata": {},
   "outputs": [],
   "source": [
    "#load the labels, and prepare an array for a bool of labels, dog == True, cat == False\n",
    "labels = np.loadtxt(\"..\\\\data\\\\train_label.txt\", dtype = 'str')\n",
    "labelsb = np.empty(len(labels), dtype=bool)"
   ]
  },
  {
   "cell_type": "code",
   "execution_count": null,
   "metadata": {},
   "outputs": [],
   "source": [
    "#make labels a better string\n",
    "for i in range(len(labels)):\n",
    "    if ('d' in labels[i]):\n",
    "        labels[i] = 'dog'\n",
    "    else:\n",
    "        labels[i] = 'cat'"
   ]
  },
  {
   "cell_type": "code",
   "execution_count": null,
   "metadata": {},
   "outputs": [],
   "source": [
    "#fill labelsb\n",
    "for i in range(len(labels)):\n",
    "    if ('d' in labels[i]):\n",
    "        labelsb[i] = True\n",
    "    else:\n",
    "        labelsb[i] = False"
   ]
  },
  {
   "cell_type": "code",
   "execution_count": null,
   "metadata": {},
   "outputs": [],
   "source": [
    "# a small array for testing my ideas\n",
    "tmp_labelsb = labelsb[range(100)]"
   ]
  },
  {
   "cell_type": "code",
   "execution_count": null,
   "metadata": {},
   "outputs": [],
   "source": [
    "plt.imshow(gu_tmpimg[30])\n",
    "plt.show()"
   ]
  },
  {
   "cell_type": "code",
   "execution_count": null,
   "metadata": {},
   "outputs": [],
   "source": [
    "#resize all images; make them uniform\n",
    "u_tmpimg = np.empty(len(tempimg), dtype = object)\n",
    "for i in range(len(tempimg)):\n",
    "    u_tmpimg[i] = cv2.resize(tempimg[i], (256,256))"
   ]
  },
  {
   "cell_type": "code",
   "execution_count": null,
   "metadata": {},
   "outputs": [],
   "source": [
    "#make all images gray and uniform size\n",
    "gu_tmpimg = np.empty(len(u_tmpimg), dtype = object)\n",
    "for i in range(len(u_tmpimg)):\n",
    "    gu_tmpimg[i] = cv2.cvtColor(u_tmpimg[i], cv2.COLOR_BGR2GRAY)"
   ]
  },
  {
   "cell_type": "code",
   "execution_count": null,
   "metadata": {},
   "outputs": [],
   "source": [
    "# tmp train and test sets\n",
    "tmp_trn = gu_tmpimg[0:69]\n",
    "tmp_tst = gu_tmpimg[70:99]\n",
    "# tmp train and test labels\n",
    "tmp_ltrn = tmp_labelsb[0:69]\n",
    "tmp_ltst = tmp_labelsb[70:99]"
   ]
  },
  {
   "cell_type": "code",
   "execution_count": null,
   "metadata": {},
   "outputs": [],
   "source": [
    "# Initiate STAR detector for all the images\n",
    "orbs = np.empty(len(tmp_trn), dtype = object)\n",
    "for i in range(len(tmp_trn)):\n",
    "    orbs[i] = cv2.ORB_create()\n",
    "\n",
    "# find the keypoints with ORB\n",
    "kps = np.empty(len(tmp_trn), dtype=object)\n",
    "for i in range(len(orbs)):\n",
    "    kps[i] = orbs[i].detect(tmp_trn[i],None)\n",
    "\n",
    "# compute the descriptors with ORB\n",
    "descrs = np.empty(len(kps), dtype = object)\n",
    "for i in range(len(kps)):\n",
    "    kps[i],descrs[i] = orbs[i].compute(tmp_trn[i],kps[i])"
   ]
  },
  {
   "cell_type": "code",
   "execution_count": null,
   "metadata": {},
   "outputs": [],
   "source": []
  }
 ],
 "metadata": {
  "kernelspec": {
   "display_name": "Python 3",
   "language": "python",
   "name": "python3"
  },
  "language_info": {
   "codemirror_mode": {
    "name": "ipython",
    "version": 3
   },
   "file_extension": ".py",
   "mimetype": "text/x-python",
   "name": "python",
   "nbconvert_exporter": "python",
   "pygments_lexer": "ipython3",
   "version": "3.6.4"
  }
 },
 "nbformat": 4,
 "nbformat_minor": 2
}
